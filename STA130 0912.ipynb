{
 "cells": [
  {
   "cell_type": "code",
   "execution_count": 11,
   "id": "f4b33d3f",
   "metadata": {},
   "outputs": [],
   "source": [
    "import pandas as pd\n",
    "import numpy"
   ]
  },
  {
   "cell_type": "code",
   "execution_count": 19,
   "id": "07b02c23",
   "metadata": {},
   "outputs": [
    {
     "data": {
      "text/plain": [
       "year             0\n",
       "month            0\n",
       "date_of_month    0\n",
       "day_of_week      0\n",
       "births           0\n",
       "dtype: int64"
      ]
     },
     "execution_count": 19,
     "metadata": {},
     "output_type": "execute_result"
    }
   ],
   "source": [
    "url='https://raw.githubusercontent.com/fivethirtyeight/data/master/births/US_births_2000-2014_SSA.csv'\n",
    "df=pd.read_csv(url,encoding=\"ISO-8859-1\")\n",
    "df.isna().sum()"
   ]
  },
  {
   "cell_type": "code",
   "execution_count": 20,
   "id": "b6601508",
   "metadata": {},
   "outputs": [],
   "source": [
    "#Chat GPT chat log: https://chatgpt.com/c/66e35ed3-4284-800e-a966-f451e5195406\n",
    "#Chat GPT chat log:https://chatgpt.com/c/66e391cc-9c44-800e-8c3d-56f7c7cb69e6"
   ]
  },
  {
   "cell_type": "code",
   "execution_count": 25,
   "id": "1617b0f0",
   "metadata": {},
   "outputs": [
    {
     "name": "stdout",
     "output_type": "stream",
     "text": [
      "Number of columns: 5\n"
     ]
    }
   ],
   "source": [
    "num_columns = data.shape[1]\n",
    "print(\"Number of columns:\", num_columns)"
   ]
  },
  {
   "cell_type": "code",
   "execution_count": null,
   "id": "51933cb5",
   "metadata": {},
   "outputs": [],
   "source": [
    "#observation: It is the rows in the dataset, which contains many analysis and events\n",
    "#variable: It is the colunm in the dataset, which cantains the type of information"
   ]
  },
  {
   "cell_type": "code",
   "execution_count": 26,
   "id": "5d912792",
   "metadata": {},
   "outputs": [
    {
     "name": "stdout",
     "output_type": "stream",
     "text": [
      "Dataset Info:\n",
      "<class 'pandas.core.frame.DataFrame'>\n",
      "RangeIndex: 5479 entries, 0 to 5478\n",
      "Data columns (total 5 columns):\n",
      " #   Column         Non-Null Count  Dtype\n",
      "---  ------         --------------  -----\n",
      " 0   year           5479 non-null   int64\n",
      " 1   month          5479 non-null   int64\n",
      " 2   date_of_month  5479 non-null   int64\n",
      " 3   day_of_week    5479 non-null   int64\n",
      " 4   births         5479 non-null   int64\n",
      "dtypes: int64(5)\n",
      "memory usage: 214.2 KB\n",
      "None\n"
     ]
    }
   ],
   "source": [
    "print(\"Dataset Info:\")\n",
    "print(data.info())"
   ]
  },
  {
   "cell_type": "code",
   "execution_count": 27,
   "id": "3c7e63fd",
   "metadata": {},
   "outputs": [
    {
     "name": "stdout",
     "output_type": "stream",
     "text": [
      "\n",
      "Descriptive Statistics:\n",
      "              year        month  date_of_month  day_of_week        births\n",
      "count  5479.000000  5479.000000    5479.000000  5479.000000   5479.000000\n",
      "mean   2006.999270     6.522723      15.730243     3.999817  11350.068261\n",
      "std       4.321085     3.449075       8.801151     2.000502   2325.821049\n",
      "min    2000.000000     1.000000       1.000000     1.000000   5728.000000\n",
      "25%    2003.000000     4.000000       8.000000     2.000000   8740.000000\n",
      "50%    2007.000000     7.000000      16.000000     4.000000  12343.000000\n",
      "75%    2011.000000    10.000000      23.000000     6.000000  13082.000000\n",
      "max    2014.000000    12.000000      31.000000     7.000000  16081.000000\n"
     ]
    }
   ],
   "source": [
    "print(\"\\nDescriptive Statistics:\")\n",
    "print(data.describe(include='all'))"
   ]
  },
  {
   "cell_type": "code",
   "execution_count": null,
   "id": "f0b2e16f",
   "metadata": {},
   "outputs": [],
   "source": [
    "#df.shape \n",
    "provide the total number of rows and columns in the datasets\n",
    "#df.describe() \n",
    "provides the total number of columns in the datasets\n",
    "#df.describe_stats.loc['count'] \n",
    "provided total number of non-null value in the column\n",
    "#Conpare those number, to find missing data in the column"
   ]
  },
  {
   "cell_type": "code",
   "execution_count": null,
   "id": "5267f3a7",
   "metadata": {},
   "outputs": [],
   "source": [
    "#df.shape represent the numner of rows and columns (Attributes, and do not perform any action or computation)->without ()\n",
    "#df.describe represent a summary of statistics(Method, perform action ot computations)"
   ]
  },
  {
   "cell_type": "code",
   "execution_count": null,
   "id": "354b4c2a",
   "metadata": {},
   "outputs": [],
   "source": [
    "#count:\n",
    "the number of non-null values in the column\n",
    "#mean:\n",
    "the average value of the non-null entries\n",
    "#std:\n",
    "the standard deviation, the distribution of the value abound the mean\n",
    "#min:\n",
    "minimum value in the column\n",
    "#max:\n",
    "maximum value in teh column\n",
    "#25%,50%,75%:2\n",
    "5%,50%,75% of the data points are below this value"
   ]
  },
  {
   "cell_type": "code",
   "execution_count": null,
   "id": "d820c494",
   "metadata": {},
   "outputs": [],
   "source": [
    "#For question 7 df.dropne preferred over using del df['col']\n",
    "ProductID ProductName  Sales  Discount\n",
    "0        101           A  200.0       NaN\n",
    "1        102           B    NaN      10.0\n",
    "2        103           C  250.0       5.0\n",
    "3        104           D  300.0       NaN\n",
    "\n",
    "#Output\n",
    "ProductID ProductName  Sales  Discount\n",
    "2        103           C  250.0       5.0\n",
    "\n",
    "#To remove rows which contain missing values"
   ]
  },
  {
   "cell_type": "code",
   "execution_count": null,
   "id": "073618ba",
   "metadata": {},
   "outputs": [],
   "source": [
    "#For question 7 del df['col'] preferred over using df.dropne\n",
    "Remove Middle Name cloumn\n",
    "\n",
    "CustomerID FirstName MiddleName LastName  PurchaseAmount\n",
    "0           1      John        NaN      Doe             150\n",
    "1           2      Jane      Marie    Smith             200\n",
    "2           3      Jake        NaN  Johnson              50\n",
    "3           4      Jill         L.    Brown             300\n",
    "\n",
    "#Output\n",
    "CustomerID FirstName MiddleName LastName  PurchaseAmount\n",
    "0           1      John        NaN      Doe             150\n",
    "1           2      Jane      Marie    Smith             200\n",
    "2           3      Jake        NaN  Johnson              50\n",
    "3           4      Jill         L.    Brown             300\n",
    "\n",
    "#To remove columns, regardless of missing values"
   ]
  },
  {
   "cell_type": "code",
   "execution_count": null,
   "id": "8ac93ef6",
   "metadata": {},
   "outputs": [],
   "source": [
    "#Applying del df['col'] before df.dropna() can delect data more fluently, without depending on missing values, and avoid losing useful rows which with missing values."
   ]
  },
  {
   "cell_type": "code",
   "execution_count": null,
   "id": "9510f9ce",
   "metadata": {},
   "outputs": [],
   "source": [
    "#Usful combination\n",
    "1.Delect unuseful columns with del df['col']\n",
    "2.Delect rows with missing values"
   ]
  },
  {
   "cell_type": "code",
   "execution_count": null,
   "id": "b5b45c0a",
   "metadata": {},
   "outputs": [],
   "source": [
    "#df.groupby(\"col1\")\n",
    "Data based on values in col1 and no aggregation performed. It will impact the whole data group\n",
    "#df[\"col2\"].describe()\n",
    "Without any grouping, only focus solely on col2 gives the summary of distribution"
   ]
  },
  {
   "cell_type": "code",
   "execution_count": null,
   "id": "8bc24290",
   "metadata": {},
   "outputs": [],
   "source": [
    "#df.describe() and df.groupby(\"col1\")[\"col2\"]\n",
    "df.groupby(\"col1\")[\"col2\"] give more detal view of non-missing data than df.describe()"
   ]
  },
  {
   "cell_type": "code",
   "execution_count": null,
   "id": "c9f541d1",
   "metadata": {},
   "outputs": [],
   "source": [
    "somewhat"
   ]
  },
  {
   "cell_type": "code",
   "execution_count": null,
   "id": "e86f6214",
   "metadata": {},
   "outputs": [],
   "source": []
  }
 ],
 "metadata": {
  "kernelspec": {
   "display_name": "Python 3 (ipykernel)",
   "language": "python",
   "name": "python3"
  },
  "language_info": {
   "codemirror_mode": {
    "name": "ipython",
    "version": 3
   },
   "file_extension": ".py",
   "mimetype": "text/x-python",
   "name": "python",
   "nbconvert_exporter": "python",
   "pygments_lexer": "ipython3",
   "version": "3.11.6"
  }
 },
 "nbformat": 4,
 "nbformat_minor": 5
}
